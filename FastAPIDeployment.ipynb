{
 "cells": [
  {
   "cell_type": "markdown",
   "id": "f28092fa-4cea-462f-b876-57074b97fe71",
   "metadata": {},
   "source": [
    "# Checkpoint 2: FastAPI-Based Deployment"
   ]
  },
  {
   "cell_type": "markdown",
   "id": "5ceb8dbe-ebc3-414b-be8b-b28a631493bb",
   "metadata": {},
   "source": [
    "### Feature Extraction with ResNet50"
   ]
  }
 ],
 "metadata": {
  "kernelspec": {
   "display_name": "Python [conda env:base] *",
   "language": "python",
   "name": "conda-base-py"
  },
  "language_info": {
   "codemirror_mode": {
    "name": "ipython",
    "version": 3
   },
   "file_extension": ".py",
   "mimetype": "text/x-python",
   "name": "python",
   "nbconvert_exporter": "python",
   "pygments_lexer": "ipython3",
   "version": "3.12.7"
  }
 },
 "nbformat": 4,
 "nbformat_minor": 5
}
