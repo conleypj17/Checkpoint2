{
 "cells": [
  {
   "cell_type": "markdown",
   "id": "f28092fa-4cea-462f-b876-57074b97fe71",
   "metadata": {},
   "source": [
    "### Checkpoint 2: FastAPI-Based Deployment"
   ]
  },
  {
   "cell_type": "code",
   "execution_count": null,
   "id": "6e91abe9-493b-4010-a60c-131447c7d489",
   "metadata": {},
   "outputs": [],
   "source": []
  }
 ],
 "metadata": {
  "kernelspec": {
   "display_name": "Python [conda env:base] *",
   "language": "python",
   "name": "conda-base-py"
  },
  "language_info": {
   "codemirror_mode": {
    "name": "ipython",
    "version": 3
   },
   "file_extension": ".py",
   "mimetype": "text/x-python",
   "name": "python",
   "nbconvert_exporter": "python",
   "pygments_lexer": "ipython3",
   "version": "3.12.7"
  }
 },
 "nbformat": 4,
 "nbformat_minor": 5
}
